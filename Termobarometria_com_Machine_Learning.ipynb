{
  "nbformat": 4,
  "nbformat_minor": 0,
  "metadata": {
    "colab": {
      "provenance": [],
      "authorship_tag": "ABX9TyM26YJZ4gHwLUqvqShA1/LG",
      "include_colab_link": true
    },
    "kernelspec": {
      "name": "python3",
      "display_name": "Python 3"
    },
    "language_info": {
      "name": "python"
    }
  },
  "cells": [
    {
      "cell_type": "markdown",
      "metadata": {
        "id": "view-in-github",
        "colab_type": "text"
      },
      "source": [
        "<a href=\"https://colab.research.google.com/github/laym0ura/projetos_ciencia_de_dados/blob/main/Termobarometria_com_Machine_Learning.ipynb\" target=\"_parent\"><img src=\"https://colab.research.google.com/assets/colab-badge.svg\" alt=\"Open In Colab\"/></a>"
      ]
    },
    {
      "cell_type": "markdown",
      "source": [
        "A termobarometria é uma técnica utilizada para estimar a pressão e a temperatura em que uma rocha foi formada com base nas características químicas de seus minerais.\n",
        "\n",
        "A técnica de quantificação da pressão e temperatura da cristalização mineral é essencial para a compreensão da arquitetura de sistemas vulcânicos, bem como para limitar a migração e armazenamento de magma através da litosfera (Giacomoni et al., 2016; Ridolfi et al., 2008; Shane & Smith, 2013; Shaw, 2018a; Smith, 2013, apud Jorgenson et al., 2021). Para esse fim, a química dos clinopiroxênios tem sido amplamente utilizada para calibrar termobarômetros (Masotta et al., 2013; Neave & Putirka, 2017; Putirka, 2008; Wang et al., 2021, apud Jorgenson et al., 2021).\n",
        "\n",
        "No entanto, essas equações são geralmente associadas a grandes estimativas de erro padrão e são adequadas apenas para composições específicas de fusão (Neave & Putirka, 2017; Masotta et al., 2013, apud Jorgenson et al., 2021) Além disso, as calibrações clássicas do termobarômetro foram autovalidadas, resultando em um ajuste excessivo dos dados e uma subestimação do erro padrão (Nimis & Taylor, 2000; Putirka, 2008, apud Jorgenson et al., 2021). Nesse sentido, o uso do Machine Learning pode ajudar a melhorar a precisão e eficiência dos modelos preditivos em comparação com os métodos tradicionais de termobarometria.\n",
        "\n",
        "Os dados utilizados foram cedidos pelos autores do artigo intitulado \"A Machine Learning-Based Approach to Clinopyroxene Thermobarometry: Model Optimization and Distribution for Use in Earth Sciences\". Esses dados passaram por um pré-processamento pelos autores, que incluiu a aplicação de um filtro de equilíbrio com base na troca Fe-Mg, seguindo os trabalhos de outros autores, como Klügel & Klein, 2006; Putirka, 2008, 2016; Ziberna et al., 2016. O filtro aceitou apenas dados dentro de 1 desvio padrão da média KdFe-Mg do conjunto de dados não filtrado. Além disso, os dados foram filtrados para remover experimentos com alta pressão (>30 kbar) ou baixo teor de líquido SiO2 (<35 wt. % SiO2), pois essas regiões são raras no conjunto de dados de calibração e podem prejudicar o desempenho dos modelos de Machine Learning.\n"
      ],
      "metadata": {
        "id": "Yugj4H-z49ed"
      }
    },
    {
      "cell_type": "markdown",
      "source": [
        "**PASSO 1: CONECTAR O GOOGLE COLAB COM O GOOGLE DRIVE**\n",
        "\n",
        "Esse código permite conectar o Colab com sua conta do Google Drive para acessar arquivos armazenados no Google Drive.\n",
        "\n",
        "A primeira linha \"from google.colab import drive\" importa o módulo \"drive\" do pacote \"google.colab\".\n",
        "\n",
        "A segunda linha \"drive.mount('/content/drive')\" monta o Google Drive na pasta \"/content/drive\" no ambiente do Colab.\n",
        "\n",
        "Depois de executar essas duas linhas de código, você será solicitado a autorizar o acesso do Colab ao seu Google Drive. Depois de autorizar, você pode acessar seus arquivos do Google Drive usando o caminho \"/content/drive/\"."
      ],
      "metadata": {
        "id": "MQNzA3TOxfSj"
      }
    },
    {
      "cell_type": "code",
      "execution_count": 1,
      "metadata": {
        "id": "91aQNR_N4ndp",
        "colab": {
          "base_uri": "https://localhost:8080/"
        },
        "outputId": "6b0699db-1dd6-4b4b-b97d-e5977f21809b"
      },
      "outputs": [
        {
          "output_type": "stream",
          "name": "stdout",
          "text": [
            "Mounted at /content/drive\n"
          ]
        }
      ],
      "source": [
        "from google.colab import drive\n",
        "drive.mount('/content/drive')"
      ]
    },
    {
      "cell_type": "markdown",
      "source": [
        "**PASSO 2: IMPORTAÇÃO DAS BIBLIOTECAS NECESSÁRIAS**"
      ],
      "metadata": {
        "id": "94riFWqXyDsj"
      }
    },
    {
      "cell_type": "code",
      "source": [
        "import pandas as pd\n",
        "import matplotlib.pyplot as plt\n",
        "import numpy as np\n",
        "import seaborn as sns\n",
        "from sklearn.model_selection import RandomizedSearchCV, train_test_split\n",
        "from sklearn.model_selection import train_test_split\n",
        "from sklearn.ensemble import RandomForestRegressor\n",
        "from sklearn.tree import DecisionTreeRegressor\n",
        "from sklearn.linear_model import LinearRegression\n",
        "from sklearn.metrics import mean_absolute_error, r2_score\n",
        "from scipy.stats import shapiro"
      ],
      "metadata": {
        "id": "on7OfvmhyCXp"
      },
      "execution_count": 28,
      "outputs": []
    },
    {
      "cell_type": "markdown",
      "source": [
        "**PASSO 3: LEITURA DO ARQUIVO DE ENTRADA**"
      ],
      "metadata": {
        "id": "_SFJ6D74yLNe"
      }
    },
    {
      "cell_type": "code",
      "source": [
        "dados = pd.read_csv('/content/drive/MyDrive/minicurso/input.csv', encoding='ISO-8859-1')"
      ],
      "metadata": {
        "id": "Sq7m0cfPyOR7"
      },
      "execution_count": 3,
      "outputs": []
    },
    {
      "cell_type": "code",
      "source": [
        "dados"
      ],
      "metadata": {
        "id": "O9NjjHU4v807",
        "outputId": "7bb6caed-705f-46ee-e007-0867cf22b4c4",
        "colab": {
          "base_uri": "https://localhost:8080/",
          "height": 461
        }
      },
      "execution_count": 4,
      "outputs": [
        {
          "output_type": "execute_result",
          "data": {
            "text/plain": [
              "      Unnamed: 0  ï..Index  SiO2.cpx  Al2O3.cpx  TiO2.cpx  CaO.cpx  Na2O.cpx  \\\n",
              "0              1      1551     52.33       1.40      0.23    16.41      0.17   \n",
              "1              2      1617     52.05       1.66      0.24    16.38      0.21   \n",
              "2              3      2272     48.94       3.77      0.50    12.17      0.53   \n",
              "3              4       538     51.16       7.15      0.37    19.03      0.74   \n",
              "4              5       149     50.20       9.80      0.35    16.00      0.45   \n",
              "...          ...       ...       ...        ...       ...      ...       ...   \n",
              "2074        2075       827     37.83      15.13      3.56    23.46      0.39   \n",
              "2075        2076      1156     52.10       1.47      0.81    13.40      0.12   \n",
              "2076        2077      1393     48.70       0.85      0.80     5.33      0.00   \n",
              "2077        2078       336     48.65       5.62      1.92    21.16      0.31   \n",
              "2078        2079      1811     46.70       8.90      1.90    21.23      0.40   \n",
              "\n",
              "      K2O.cpx  FeO.cpx  MgO.cpx  ...  K.cpx  Fe.cpx  Mg.cpx  Mn.cpx  Cr.cpx  \\\n",
              "0        0.00    12.64    15.49  ...  0.000   0.398   0.870   0.017   0.000   \n",
              "1        0.00    13.79    14.65  ...  0.000   0.435   0.824   0.016   0.000   \n",
              "2        0.00    21.68    10.40  ...  0.000   0.712   0.609   0.008   0.000   \n",
              "3        0.00     3.42    16.94  ...  0.000   0.103   0.911   0.002   0.038   \n",
              "4        0.00     4.70    18.80  ...  0.000   0.140   1.001   0.004   0.004   \n",
              "...       ...      ...      ...  ...    ...     ...     ...     ...     ...   \n",
              "2074     0.24     9.58     7.79  ...  0.012   0.314   0.455   0.000   0.000   \n",
              "2075     0.00    13.90    17.80  ...  0.000   0.434   0.991   0.000   0.000   \n",
              "2076     0.00    33.60    11.00  ...  0.000   1.118   0.652   0.000   0.013   \n",
              "2077     0.02     8.74    13.61  ...  0.001   0.273   0.758   0.000   0.000   \n",
              "2078     0.01     7.00    13.50  ...  0.000   0.218   0.749   0.001   0.000   \n",
              "\n",
              "      Ni.cpx  P.cpx  cat.sum  Rm        kd  \n",
              "0        0.0    0.0    3.999   N  0.210898  \n",
              "1        0.0    0.0    3.998   N  0.227517  \n",
              "2        0.0    0.0    3.994   N  0.250448  \n",
              "3        0.0    0.0    4.000   N  0.265738  \n",
              "4        0.0    0.0    4.005   N  0.322401  \n",
              "...      ...    ...      ...  ..       ...  \n",
              "2074     0.0    0.0    4.083   N  0.374349  \n",
              "2075     0.0    0.0    4.004   N  0.245481  \n",
              "2076     0.0    0.0    4.012   N  0.250635  \n",
              "2077     0.0    0.0    4.017   N  0.239807  \n",
              "2078     0.0    0.0    4.027   N  0.194639  \n",
              "\n",
              "[2079 rows x 45 columns]"
            ],
            "text/html": [
              "\n",
              "  <div id=\"df-89415245-738b-4043-a275-e05d2fd44ace\" class=\"colab-df-container\">\n",
              "    <div>\n",
              "<style scoped>\n",
              "    .dataframe tbody tr th:only-of-type {\n",
              "        vertical-align: middle;\n",
              "    }\n",
              "\n",
              "    .dataframe tbody tr th {\n",
              "        vertical-align: top;\n",
              "    }\n",
              "\n",
              "    .dataframe thead th {\n",
              "        text-align: right;\n",
              "    }\n",
              "</style>\n",
              "<table border=\"1\" class=\"dataframe\">\n",
              "  <thead>\n",
              "    <tr style=\"text-align: right;\">\n",
              "      <th></th>\n",
              "      <th>Unnamed: 0</th>\n",
              "      <th>ï..Index</th>\n",
              "      <th>SiO2.cpx</th>\n",
              "      <th>Al2O3.cpx</th>\n",
              "      <th>TiO2.cpx</th>\n",
              "      <th>CaO.cpx</th>\n",
              "      <th>Na2O.cpx</th>\n",
              "      <th>K2O.cpx</th>\n",
              "      <th>FeO.cpx</th>\n",
              "      <th>MgO.cpx</th>\n",
              "      <th>...</th>\n",
              "      <th>K.cpx</th>\n",
              "      <th>Fe.cpx</th>\n",
              "      <th>Mg.cpx</th>\n",
              "      <th>Mn.cpx</th>\n",
              "      <th>Cr.cpx</th>\n",
              "      <th>Ni.cpx</th>\n",
              "      <th>P.cpx</th>\n",
              "      <th>cat.sum</th>\n",
              "      <th>Rm</th>\n",
              "      <th>kd</th>\n",
              "    </tr>\n",
              "  </thead>\n",
              "  <tbody>\n",
              "    <tr>\n",
              "      <th>0</th>\n",
              "      <td>1</td>\n",
              "      <td>1551</td>\n",
              "      <td>52.33</td>\n",
              "      <td>1.40</td>\n",
              "      <td>0.23</td>\n",
              "      <td>16.41</td>\n",
              "      <td>0.17</td>\n",
              "      <td>0.00</td>\n",
              "      <td>12.64</td>\n",
              "      <td>15.49</td>\n",
              "      <td>...</td>\n",
              "      <td>0.000</td>\n",
              "      <td>0.398</td>\n",
              "      <td>0.870</td>\n",
              "      <td>0.017</td>\n",
              "      <td>0.000</td>\n",
              "      <td>0.0</td>\n",
              "      <td>0.0</td>\n",
              "      <td>3.999</td>\n",
              "      <td>N</td>\n",
              "      <td>0.210898</td>\n",
              "    </tr>\n",
              "    <tr>\n",
              "      <th>1</th>\n",
              "      <td>2</td>\n",
              "      <td>1617</td>\n",
              "      <td>52.05</td>\n",
              "      <td>1.66</td>\n",
              "      <td>0.24</td>\n",
              "      <td>16.38</td>\n",
              "      <td>0.21</td>\n",
              "      <td>0.00</td>\n",
              "      <td>13.79</td>\n",
              "      <td>14.65</td>\n",
              "      <td>...</td>\n",
              "      <td>0.000</td>\n",
              "      <td>0.435</td>\n",
              "      <td>0.824</td>\n",
              "      <td>0.016</td>\n",
              "      <td>0.000</td>\n",
              "      <td>0.0</td>\n",
              "      <td>0.0</td>\n",
              "      <td>3.998</td>\n",
              "      <td>N</td>\n",
              "      <td>0.227517</td>\n",
              "    </tr>\n",
              "    <tr>\n",
              "      <th>2</th>\n",
              "      <td>3</td>\n",
              "      <td>2272</td>\n",
              "      <td>48.94</td>\n",
              "      <td>3.77</td>\n",
              "      <td>0.50</td>\n",
              "      <td>12.17</td>\n",
              "      <td>0.53</td>\n",
              "      <td>0.00</td>\n",
              "      <td>21.68</td>\n",
              "      <td>10.40</td>\n",
              "      <td>...</td>\n",
              "      <td>0.000</td>\n",
              "      <td>0.712</td>\n",
              "      <td>0.609</td>\n",
              "      <td>0.008</td>\n",
              "      <td>0.000</td>\n",
              "      <td>0.0</td>\n",
              "      <td>0.0</td>\n",
              "      <td>3.994</td>\n",
              "      <td>N</td>\n",
              "      <td>0.250448</td>\n",
              "    </tr>\n",
              "    <tr>\n",
              "      <th>3</th>\n",
              "      <td>4</td>\n",
              "      <td>538</td>\n",
              "      <td>51.16</td>\n",
              "      <td>7.15</td>\n",
              "      <td>0.37</td>\n",
              "      <td>19.03</td>\n",
              "      <td>0.74</td>\n",
              "      <td>0.00</td>\n",
              "      <td>3.42</td>\n",
              "      <td>16.94</td>\n",
              "      <td>...</td>\n",
              "      <td>0.000</td>\n",
              "      <td>0.103</td>\n",
              "      <td>0.911</td>\n",
              "      <td>0.002</td>\n",
              "      <td>0.038</td>\n",
              "      <td>0.0</td>\n",
              "      <td>0.0</td>\n",
              "      <td>4.000</td>\n",
              "      <td>N</td>\n",
              "      <td>0.265738</td>\n",
              "    </tr>\n",
              "    <tr>\n",
              "      <th>4</th>\n",
              "      <td>5</td>\n",
              "      <td>149</td>\n",
              "      <td>50.20</td>\n",
              "      <td>9.80</td>\n",
              "      <td>0.35</td>\n",
              "      <td>16.00</td>\n",
              "      <td>0.45</td>\n",
              "      <td>0.00</td>\n",
              "      <td>4.70</td>\n",
              "      <td>18.80</td>\n",
              "      <td>...</td>\n",
              "      <td>0.000</td>\n",
              "      <td>0.140</td>\n",
              "      <td>1.001</td>\n",
              "      <td>0.004</td>\n",
              "      <td>0.004</td>\n",
              "      <td>0.0</td>\n",
              "      <td>0.0</td>\n",
              "      <td>4.005</td>\n",
              "      <td>N</td>\n",
              "      <td>0.322401</td>\n",
              "    </tr>\n",
              "    <tr>\n",
              "      <th>...</th>\n",
              "      <td>...</td>\n",
              "      <td>...</td>\n",
              "      <td>...</td>\n",
              "      <td>...</td>\n",
              "      <td>...</td>\n",
              "      <td>...</td>\n",
              "      <td>...</td>\n",
              "      <td>...</td>\n",
              "      <td>...</td>\n",
              "      <td>...</td>\n",
              "      <td>...</td>\n",
              "      <td>...</td>\n",
              "      <td>...</td>\n",
              "      <td>...</td>\n",
              "      <td>...</td>\n",
              "      <td>...</td>\n",
              "      <td>...</td>\n",
              "      <td>...</td>\n",
              "      <td>...</td>\n",
              "      <td>...</td>\n",
              "      <td>...</td>\n",
              "    </tr>\n",
              "    <tr>\n",
              "      <th>2074</th>\n",
              "      <td>2075</td>\n",
              "      <td>827</td>\n",
              "      <td>37.83</td>\n",
              "      <td>15.13</td>\n",
              "      <td>3.56</td>\n",
              "      <td>23.46</td>\n",
              "      <td>0.39</td>\n",
              "      <td>0.24</td>\n",
              "      <td>9.58</td>\n",
              "      <td>7.79</td>\n",
              "      <td>...</td>\n",
              "      <td>0.012</td>\n",
              "      <td>0.314</td>\n",
              "      <td>0.455</td>\n",
              "      <td>0.000</td>\n",
              "      <td>0.000</td>\n",
              "      <td>0.0</td>\n",
              "      <td>0.0</td>\n",
              "      <td>4.083</td>\n",
              "      <td>N</td>\n",
              "      <td>0.374349</td>\n",
              "    </tr>\n",
              "    <tr>\n",
              "      <th>2075</th>\n",
              "      <td>2076</td>\n",
              "      <td>1156</td>\n",
              "      <td>52.10</td>\n",
              "      <td>1.47</td>\n",
              "      <td>0.81</td>\n",
              "      <td>13.40</td>\n",
              "      <td>0.12</td>\n",
              "      <td>0.00</td>\n",
              "      <td>13.90</td>\n",
              "      <td>17.80</td>\n",
              "      <td>...</td>\n",
              "      <td>0.000</td>\n",
              "      <td>0.434</td>\n",
              "      <td>0.991</td>\n",
              "      <td>0.000</td>\n",
              "      <td>0.000</td>\n",
              "      <td>0.0</td>\n",
              "      <td>0.0</td>\n",
              "      <td>4.004</td>\n",
              "      <td>N</td>\n",
              "      <td>0.245481</td>\n",
              "    </tr>\n",
              "    <tr>\n",
              "      <th>2076</th>\n",
              "      <td>2077</td>\n",
              "      <td>1393</td>\n",
              "      <td>48.70</td>\n",
              "      <td>0.85</td>\n",
              "      <td>0.80</td>\n",
              "      <td>5.33</td>\n",
              "      <td>0.00</td>\n",
              "      <td>0.00</td>\n",
              "      <td>33.60</td>\n",
              "      <td>11.00</td>\n",
              "      <td>...</td>\n",
              "      <td>0.000</td>\n",
              "      <td>1.118</td>\n",
              "      <td>0.652</td>\n",
              "      <td>0.000</td>\n",
              "      <td>0.013</td>\n",
              "      <td>0.0</td>\n",
              "      <td>0.0</td>\n",
              "      <td>4.012</td>\n",
              "      <td>N</td>\n",
              "      <td>0.250635</td>\n",
              "    </tr>\n",
              "    <tr>\n",
              "      <th>2077</th>\n",
              "      <td>2078</td>\n",
              "      <td>336</td>\n",
              "      <td>48.65</td>\n",
              "      <td>5.62</td>\n",
              "      <td>1.92</td>\n",
              "      <td>21.16</td>\n",
              "      <td>0.31</td>\n",
              "      <td>0.02</td>\n",
              "      <td>8.74</td>\n",
              "      <td>13.61</td>\n",
              "      <td>...</td>\n",
              "      <td>0.001</td>\n",
              "      <td>0.273</td>\n",
              "      <td>0.758</td>\n",
              "      <td>0.000</td>\n",
              "      <td>0.000</td>\n",
              "      <td>0.0</td>\n",
              "      <td>0.0</td>\n",
              "      <td>4.017</td>\n",
              "      <td>N</td>\n",
              "      <td>0.239807</td>\n",
              "    </tr>\n",
              "    <tr>\n",
              "      <th>2078</th>\n",
              "      <td>2079</td>\n",
              "      <td>1811</td>\n",
              "      <td>46.70</td>\n",
              "      <td>8.90</td>\n",
              "      <td>1.90</td>\n",
              "      <td>21.23</td>\n",
              "      <td>0.40</td>\n",
              "      <td>0.01</td>\n",
              "      <td>7.00</td>\n",
              "      <td>13.50</td>\n",
              "      <td>...</td>\n",
              "      <td>0.000</td>\n",
              "      <td>0.218</td>\n",
              "      <td>0.749</td>\n",
              "      <td>0.001</td>\n",
              "      <td>0.000</td>\n",
              "      <td>0.0</td>\n",
              "      <td>0.0</td>\n",
              "      <td>4.027</td>\n",
              "      <td>N</td>\n",
              "      <td>0.194639</td>\n",
              "    </tr>\n",
              "  </tbody>\n",
              "</table>\n",
              "<p>2079 rows × 45 columns</p>\n",
              "</div>\n",
              "    <div class=\"colab-df-buttons\">\n",
              "\n",
              "  <div class=\"colab-df-container\">\n",
              "    <button class=\"colab-df-convert\" onclick=\"convertToInteractive('df-89415245-738b-4043-a275-e05d2fd44ace')\"\n",
              "            title=\"Convert this dataframe to an interactive table.\"\n",
              "            style=\"display:none;\">\n",
              "\n",
              "  <svg xmlns=\"http://www.w3.org/2000/svg\" height=\"24px\" viewBox=\"0 -960 960 960\">\n",
              "    <path d=\"M120-120v-720h720v720H120Zm60-500h600v-160H180v160Zm220 220h160v-160H400v160Zm0 220h160v-160H400v160ZM180-400h160v-160H180v160Zm440 0h160v-160H620v160ZM180-180h160v-160H180v160Zm440 0h160v-160H620v160Z\"/>\n",
              "  </svg>\n",
              "    </button>\n",
              "\n",
              "  <style>\n",
              "    .colab-df-container {\n",
              "      display:flex;\n",
              "      gap: 12px;\n",
              "    }\n",
              "\n",
              "    .colab-df-convert {\n",
              "      background-color: #E8F0FE;\n",
              "      border: none;\n",
              "      border-radius: 50%;\n",
              "      cursor: pointer;\n",
              "      display: none;\n",
              "      fill: #1967D2;\n",
              "      height: 32px;\n",
              "      padding: 0 0 0 0;\n",
              "      width: 32px;\n",
              "    }\n",
              "\n",
              "    .colab-df-convert:hover {\n",
              "      background-color: #E2EBFA;\n",
              "      box-shadow: 0px 1px 2px rgba(60, 64, 67, 0.3), 0px 1px 3px 1px rgba(60, 64, 67, 0.15);\n",
              "      fill: #174EA6;\n",
              "    }\n",
              "\n",
              "    .colab-df-buttons div {\n",
              "      margin-bottom: 4px;\n",
              "    }\n",
              "\n",
              "    [theme=dark] .colab-df-convert {\n",
              "      background-color: #3B4455;\n",
              "      fill: #D2E3FC;\n",
              "    }\n",
              "\n",
              "    [theme=dark] .colab-df-convert:hover {\n",
              "      background-color: #434B5C;\n",
              "      box-shadow: 0px 1px 3px 1px rgba(0, 0, 0, 0.15);\n",
              "      filter: drop-shadow(0px 1px 2px rgba(0, 0, 0, 0.3));\n",
              "      fill: #FFFFFF;\n",
              "    }\n",
              "  </style>\n",
              "\n",
              "    <script>\n",
              "      const buttonEl =\n",
              "        document.querySelector('#df-89415245-738b-4043-a275-e05d2fd44ace button.colab-df-convert');\n",
              "      buttonEl.style.display =\n",
              "        google.colab.kernel.accessAllowed ? 'block' : 'none';\n",
              "\n",
              "      async function convertToInteractive(key) {\n",
              "        const element = document.querySelector('#df-89415245-738b-4043-a275-e05d2fd44ace');\n",
              "        const dataTable =\n",
              "          await google.colab.kernel.invokeFunction('convertToInteractive',\n",
              "                                                    [key], {});\n",
              "        if (!dataTable) return;\n",
              "\n",
              "        const docLinkHtml = 'Like what you see? Visit the ' +\n",
              "          '<a target=\"_blank\" href=https://colab.research.google.com/notebooks/data_table.ipynb>data table notebook</a>'\n",
              "          + ' to learn more about interactive tables.';\n",
              "        element.innerHTML = '';\n",
              "        dataTable['output_type'] = 'display_data';\n",
              "        await google.colab.output.renderOutput(dataTable, element);\n",
              "        const docLink = document.createElement('div');\n",
              "        docLink.innerHTML = docLinkHtml;\n",
              "        element.appendChild(docLink);\n",
              "      }\n",
              "    </script>\n",
              "  </div>\n",
              "\n",
              "\n",
              "<div id=\"df-ddea04d5-ae7a-4e8e-a60a-c9e2cea9e187\">\n",
              "  <button class=\"colab-df-quickchart\" onclick=\"quickchart('df-ddea04d5-ae7a-4e8e-a60a-c9e2cea9e187')\"\n",
              "            title=\"Suggest charts.\"\n",
              "            style=\"display:none;\">\n",
              "\n",
              "<svg xmlns=\"http://www.w3.org/2000/svg\" height=\"24px\"viewBox=\"0 0 24 24\"\n",
              "     width=\"24px\">\n",
              "    <g>\n",
              "        <path d=\"M19 3H5c-1.1 0-2 .9-2 2v14c0 1.1.9 2 2 2h14c1.1 0 2-.9 2-2V5c0-1.1-.9-2-2-2zM9 17H7v-7h2v7zm4 0h-2V7h2v10zm4 0h-2v-4h2v4z\"/>\n",
              "    </g>\n",
              "</svg>\n",
              "  </button>\n",
              "\n",
              "<style>\n",
              "  .colab-df-quickchart {\n",
              "    background-color: #E8F0FE;\n",
              "    border: none;\n",
              "    border-radius: 50%;\n",
              "    cursor: pointer;\n",
              "    display: none;\n",
              "    fill: #1967D2;\n",
              "    height: 32px;\n",
              "    padding: 0 0 0 0;\n",
              "    width: 32px;\n",
              "  }\n",
              "\n",
              "  .colab-df-quickchart:hover {\n",
              "    background-color: #E2EBFA;\n",
              "    box-shadow: 0px 1px 2px rgba(60, 64, 67, 0.3), 0px 1px 3px 1px rgba(60, 64, 67, 0.15);\n",
              "    fill: #174EA6;\n",
              "  }\n",
              "\n",
              "  [theme=dark] .colab-df-quickchart {\n",
              "    background-color: #3B4455;\n",
              "    fill: #D2E3FC;\n",
              "  }\n",
              "\n",
              "  [theme=dark] .colab-df-quickchart:hover {\n",
              "    background-color: #434B5C;\n",
              "    box-shadow: 0px 1px 3px 1px rgba(0, 0, 0, 0.15);\n",
              "    filter: drop-shadow(0px 1px 2px rgba(0, 0, 0, 0.3));\n",
              "    fill: #FFFFFF;\n",
              "  }\n",
              "</style>\n",
              "\n",
              "  <script>\n",
              "    async function quickchart(key) {\n",
              "      const charts = await google.colab.kernel.invokeFunction(\n",
              "          'suggestCharts', [key], {});\n",
              "    }\n",
              "    (() => {\n",
              "      let quickchartButtonEl =\n",
              "        document.querySelector('#df-ddea04d5-ae7a-4e8e-a60a-c9e2cea9e187 button');\n",
              "      quickchartButtonEl.style.display =\n",
              "        google.colab.kernel.accessAllowed ? 'block' : 'none';\n",
              "    })();\n",
              "  </script>\n",
              "</div>\n",
              "    </div>\n",
              "  </div>\n"
            ]
          },
          "metadata": {},
          "execution_count": 4
        }
      ]
    },
    {
      "cell_type": "markdown",
      "source": [
        "**PASSO 4: LIMPEZA DOS DADOS**"
      ],
      "metadata": {
        "id": "GnCoQ8uG0UiY"
      }
    },
    {
      "cell_type": "markdown",
      "source": [
        "Esses dados foram pré-filtrados pelos autores, aceitando apenas valores de troca Fe-Mg dentro de 1 desvio-padrão da média de KdFe-Mg e removendo experimentos de alta pressão (>30 kbar) ou com baixo teor de SiO2 (<35% em peso). As colunas \"Rm\" e \"Kd\" foram fornecidas, mas não serão usadas no modelo. As colunas \"Ref\" e \"Run\" também serão excluídas, pois se referem a informações de referência dos dados. Além disso, a coluna \"Index\" será excluída, pois se refere ao índice da análise antes do embaralhamento."
      ],
      "metadata": {
        "id": "H5FNmBDK168u"
      }
    },
    {
      "cell_type": "code",
      "source": [
        "#verificando quais sao as colunas do dataframe\n",
        "dados.columns"
      ],
      "metadata": {
        "colab": {
          "base_uri": "https://localhost:8080/"
        },
        "id": "WAJbww_ZzgF8",
        "outputId": "a9ad4c0c-a2fa-4308-9bb6-8144a09a7657"
      },
      "execution_count": 5,
      "outputs": [
        {
          "output_type": "execute_result",
          "data": {
            "text/plain": [
              "Index(['Unnamed: 0', 'ï..Index', 'SiO2.cpx', 'Al2O3.cpx', 'TiO2.cpx',\n",
              "       'CaO.cpx', 'Na2O.cpx', 'K2O.cpx', 'FeO.cpx', 'MgO.cpx', 'MnO.cpx',\n",
              "       'Cr2O3.cpx', 'NiO.cpx', 'P2O5.cpx', 'SiO2.liq', 'Al2O3.liq', 'TiO2.liq',\n",
              "       'CaO.liq', 'Na2O.liq', 'K2O.liq', 'FeO.liq', 'MgO.liq', 'MnO.liq',\n",
              "       'Cr2O3.liq', 'NiO.liq', 'P2O5.liq', 'T', 'P', 'Run', 'Ref', 'Si.cpx',\n",
              "       'Al.cpx', 'Ti.cpx', 'Ca.cpx', 'Na.cpx', 'K.cpx', 'Fe.cpx', 'Mg.cpx',\n",
              "       'Mn.cpx', 'Cr.cpx', 'Ni.cpx', 'P.cpx', 'cat.sum', 'Rm', 'kd'],\n",
              "      dtype='object')"
            ]
          },
          "metadata": {},
          "execution_count": 5
        }
      ]
    },
    {
      "cell_type": "code",
      "source": [
        "#removendo as colunas que não serão utilizadas\n",
        "dados = dados.drop(['Unnamed: 0', 'ï..Index', 'Run', 'Ref', 'Rm', 'kd'], axis = 1)"
      ],
      "metadata": {
        "id": "zNXWr3BlzsqE"
      },
      "execution_count": 6,
      "outputs": []
    },
    {
      "cell_type": "code",
      "source": [
        "#verificando, novamente, quais sao as colunas do dataframe\n",
        "dados.columns"
      ],
      "metadata": {
        "colab": {
          "base_uri": "https://localhost:8080/"
        },
        "id": "3QUx3aZ80KHZ",
        "outputId": "b50c97cc-2dea-49a9-c87f-4292cf2e2c56"
      },
      "execution_count": 7,
      "outputs": [
        {
          "output_type": "execute_result",
          "data": {
            "text/plain": [
              "Index(['SiO2.cpx', 'Al2O3.cpx', 'TiO2.cpx', 'CaO.cpx', 'Na2O.cpx', 'K2O.cpx',\n",
              "       'FeO.cpx', 'MgO.cpx', 'MnO.cpx', 'Cr2O3.cpx', 'NiO.cpx', 'P2O5.cpx',\n",
              "       'SiO2.liq', 'Al2O3.liq', 'TiO2.liq', 'CaO.liq', 'Na2O.liq', 'K2O.liq',\n",
              "       'FeO.liq', 'MgO.liq', 'MnO.liq', 'Cr2O3.liq', 'NiO.liq', 'P2O5.liq',\n",
              "       'T', 'P', 'Si.cpx', 'Al.cpx', 'Ti.cpx', 'Ca.cpx', 'Na.cpx', 'K.cpx',\n",
              "       'Fe.cpx', 'Mg.cpx', 'Mn.cpx', 'Cr.cpx', 'Ni.cpx', 'P.cpx', 'cat.sum'],\n",
              "      dtype='object')"
            ]
          },
          "metadata": {},
          "execution_count": 7
        }
      ]
    },
    {
      "cell_type": "code",
      "source": [
        "#verificando se há valores nulos\n",
        "dados.isnull().sum()"
      ],
      "metadata": {
        "colab": {
          "base_uri": "https://localhost:8080/"
        },
        "id": "158UjtKa3MPA",
        "outputId": "6fdd7423-6160-46cd-e607-b4ff69466598"
      },
      "execution_count": 8,
      "outputs": [
        {
          "output_type": "execute_result",
          "data": {
            "text/plain": [
              "SiO2.cpx     0\n",
              "Al2O3.cpx    0\n",
              "TiO2.cpx     0\n",
              "CaO.cpx      0\n",
              "Na2O.cpx     0\n",
              "K2O.cpx      0\n",
              "FeO.cpx      0\n",
              "MgO.cpx      0\n",
              "MnO.cpx      0\n",
              "Cr2O3.cpx    0\n",
              "NiO.cpx      0\n",
              "P2O5.cpx     0\n",
              "SiO2.liq     0\n",
              "Al2O3.liq    0\n",
              "TiO2.liq     0\n",
              "CaO.liq      0\n",
              "Na2O.liq     0\n",
              "K2O.liq      0\n",
              "FeO.liq      0\n",
              "MgO.liq      0\n",
              "MnO.liq      0\n",
              "Cr2O3.liq    0\n",
              "NiO.liq      0\n",
              "P2O5.liq     0\n",
              "T            0\n",
              "P            0\n",
              "Si.cpx       0\n",
              "Al.cpx       0\n",
              "Ti.cpx       0\n",
              "Ca.cpx       0\n",
              "Na.cpx       0\n",
              "K.cpx        0\n",
              "Fe.cpx       0\n",
              "Mg.cpx       0\n",
              "Mn.cpx       0\n",
              "Cr.cpx       0\n",
              "Ni.cpx       0\n",
              "P.cpx        0\n",
              "cat.sum      0\n",
              "dtype: int64"
            ]
          },
          "metadata": {},
          "execution_count": 8
        }
      ]
    },
    {
      "cell_type": "markdown",
      "source": [
        "**PASSO 5: ANÁLISE EXPLORATÓRIA DOS DADOS**"
      ],
      "metadata": {
        "id": "Iu43twTx2Dqg"
      }
    },
    {
      "cell_type": "markdown",
      "source": [
        "**1 - Função info()**\n",
        "\n",
        "A função info() em pandas fornece um resumo conciso das informações sobre o DataFrame, incluindo o número de entradas não nulas, o tipo de dado de cada coluna e a quantidade de memória usada. Ela é especialmente útil para ter uma visão geral da estrutura do DataFrame.\n",
        "\n",
        "A saída da função info() inclui as seguintes informações:\n",
        "\n",
        "- RangeIndex: O intervalo de índices das linhas do DataFrame.\n",
        "- Data columns: A lista das colunas do DataFrame, incluindo o nome e o total de colunas.\n",
        "- Dtype: O tipo de dado de cada coluna.\n",
        "- Non-Null Count: O número de valores não nulos em cada coluna.\n",
        "- memory usage: A quantidade de memória utilizada pelo DataFrame."
      ],
      "metadata": {
        "id": "X7ZXXRKoORE_"
      }
    },
    {
      "cell_type": "code",
      "source": [
        "dados.info()"
      ],
      "metadata": {
        "colab": {
          "base_uri": "https://localhost:8080/"
        },
        "id": "0n91beicN653",
        "outputId": "753ad068-66c2-4685-ba4c-6ddfd7c341a0"
      },
      "execution_count": 9,
      "outputs": [
        {
          "output_type": "stream",
          "name": "stdout",
          "text": [
            "<class 'pandas.core.frame.DataFrame'>\n",
            "RangeIndex: 2079 entries, 0 to 2078\n",
            "Data columns (total 39 columns):\n",
            " #   Column     Non-Null Count  Dtype  \n",
            "---  ------     --------------  -----  \n",
            " 0   SiO2.cpx   2079 non-null   float64\n",
            " 1   Al2O3.cpx  2079 non-null   float64\n",
            " 2   TiO2.cpx   2079 non-null   float64\n",
            " 3   CaO.cpx    2079 non-null   float64\n",
            " 4   Na2O.cpx   2079 non-null   float64\n",
            " 5   K2O.cpx    2079 non-null   float64\n",
            " 6   FeO.cpx    2079 non-null   float64\n",
            " 7   MgO.cpx    2079 non-null   float64\n",
            " 8   MnO.cpx    2079 non-null   float64\n",
            " 9   Cr2O3.cpx  2079 non-null   float64\n",
            " 10  NiO.cpx    2079 non-null   float64\n",
            " 11  P2O5.cpx   2079 non-null   float64\n",
            " 12  SiO2.liq   2079 non-null   float64\n",
            " 13  Al2O3.liq  2079 non-null   float64\n",
            " 14  TiO2.liq   2079 non-null   float64\n",
            " 15  CaO.liq    2079 non-null   float64\n",
            " 16  Na2O.liq   2079 non-null   float64\n",
            " 17  K2O.liq    2079 non-null   float64\n",
            " 18  FeO.liq    2079 non-null   float64\n",
            " 19  MgO.liq    2079 non-null   float64\n",
            " 20  MnO.liq    2079 non-null   float64\n",
            " 21  Cr2O3.liq  2079 non-null   float64\n",
            " 22  NiO.liq    2079 non-null   float64\n",
            " 23  P2O5.liq   2079 non-null   float64\n",
            " 24  T          2079 non-null   float64\n",
            " 25  P          2079 non-null   float64\n",
            " 26  Si.cpx     2079 non-null   float64\n",
            " 27  Al.cpx     2079 non-null   float64\n",
            " 28  Ti.cpx     2079 non-null   float64\n",
            " 29  Ca.cpx     2079 non-null   float64\n",
            " 30  Na.cpx     2079 non-null   float64\n",
            " 31  K.cpx      2079 non-null   float64\n",
            " 32  Fe.cpx     2079 non-null   float64\n",
            " 33  Mg.cpx     2079 non-null   float64\n",
            " 34  Mn.cpx     2079 non-null   float64\n",
            " 35  Cr.cpx     2079 non-null   float64\n",
            " 36  Ni.cpx     2079 non-null   float64\n",
            " 37  P.cpx      2079 non-null   float64\n",
            " 38  cat.sum    2079 non-null   float64\n",
            "dtypes: float64(39)\n",
            "memory usage: 633.6 KB\n"
          ]
        }
      ]
    },
    {
      "cell_type": "markdown",
      "source": [
        "**2 - Estatística Descritiva**\n",
        "\n",
        "A estatística descritiva é uma etapa inicial importante para explorar e entender os dados, fornecendo uma visão geral das características e propriedades fundamentais."
      ],
      "metadata": {
        "id": "UIsbBHoAM3VB"
      }
    },
    {
      "cell_type": "markdown",
      "source": [
        "A função describe() é uma função estatística útil em Python que fornece um resumo estatístico das colunas numéricas de um DataFrame. Ela calcula várias estatísticas descritivas para cada coluna, oferecendo uma visão geral rápida dos dados. A função describe() retorna as seguintes estatísticas:\n",
        "\n",
        "- Contagem (count): O número de valores não nulos em cada coluna.\n",
        "\n",
        "- Média (mean): A média aritmética dos valores na coluna.\n",
        "\n",
        "- Desvio padrão (std): A medida de dispersão dos valores em relação à média.\n",
        "\n",
        "- Valor mínimo (min): O menor valor presente na coluna.\n",
        "\n",
        "- Quartis (25%, 50%, 75%): Valores que dividem os dados em quartis, fornecendo informações sobre a distribuição dos dados. O 25% representa o primeiro quartil (Q1), o 50% é a mediana (Q2) e o 75% é o terceiro quartil (Q3).\n",
        "\n",
        "- Valor máximo (max): O maior valor presente na coluna."
      ],
      "metadata": {
        "id": "CXNpDL9ONblR"
      }
    },
    {
      "cell_type": "code",
      "source": [
        "dados.describe()"
      ],
      "metadata": {
        "colab": {
          "base_uri": "https://localhost:8080/",
          "height": 350
        },
        "id": "A_tC_CCfMPO9",
        "outputId": "4fb7e626-dc91-41c8-b627-516bb0d1e5d9"
      },
      "execution_count": 10,
      "outputs": [
        {
          "output_type": "execute_result",
          "data": {
            "text/plain": [
              "          SiO2.cpx    Al2O3.cpx     TiO2.cpx      CaO.cpx     Na2O.cpx  \\\n",
              "count  2079.000000  2079.000000  2079.000000  2079.000000  2079.000000   \n",
              "mean     50.857629     5.022458     0.729548    16.894334     0.536162   \n",
              "std       2.232614     3.221238     0.662754     4.931990     0.672233   \n",
              "min      37.830000     0.000000     0.000000     0.370000     0.000000   \n",
              "25%      49.895000     2.450000     0.290000    15.100000     0.210000   \n",
              "50%      51.200000     4.400000     0.570000    18.000000     0.350000   \n",
              "75%      52.100000     7.055000     0.900000    20.240000     0.590000   \n",
              "max      57.200000    25.760000     5.690000    24.820000     7.760000   \n",
              "\n",
              "           K2O.cpx      FeO.cpx      MgO.cpx      MnO.cpx    Cr2O3.cpx  ...  \\\n",
              "count  2079.000000  2079.000000  2079.000000  2079.000000  2079.000000  ...   \n",
              "mean      0.021347     9.162142    16.089630     0.228490     0.221178  ...   \n",
              "std       0.076960     4.788408     3.952534     0.205509     0.371303  ...   \n",
              "min       0.000000     1.700000     0.770000     0.000000     0.000000  ...   \n",
              "25%       0.000000     5.890000    14.200000     0.110000     0.000000  ...   \n",
              "50%       0.000000     7.951833    15.760000     0.180000     0.000000  ...   \n",
              "75%       0.010000    11.700000    17.890000     0.300000     0.320000  ...   \n",
              "max       1.050000    34.200000    32.100000     2.200000     2.110000  ...   \n",
              "\n",
              "            Ca.cpx       Na.cpx        K.cpx       Fe.cpx       Mg.cpx  \\\n",
              "count  2079.000000  2079.000000  2079.000000  2079.000000  2079.000000   \n",
              "mean      0.669856     0.038277     0.000966     0.285787     0.882860   \n",
              "std       0.198416     0.047853     0.003695     0.156628     0.203156   \n",
              "min       0.015000     0.000000     0.000000     0.051000     0.047000   \n",
              "25%       0.595000     0.015000     0.000000     0.179000     0.790000   \n",
              "50%       0.713000     0.025000     0.000000     0.244000     0.873000   \n",
              "75%       0.802000     0.042000     0.000000     0.367500     0.969000   \n",
              "max       0.994000     0.529000     0.050000     1.157000     1.669000   \n",
              "\n",
              "            Mn.cpx       Cr.cpx       Ni.cpx        P.cpx      cat.sum  \n",
              "count  2079.000000  2079.000000  2079.000000  2079.000000  2079.000000  \n",
              "mean      0.007239     0.006346     0.000057     0.000213     4.008262  \n",
              "std       0.006749     0.010582     0.000385     0.001393     0.022057  \n",
              "min       0.000000     0.000000     0.000000     0.000000     3.869000  \n",
              "25%       0.003000     0.000000     0.000000     0.000000     3.997000  \n",
              "50%       0.006000     0.000000     0.000000     0.000000     4.006000  \n",
              "75%       0.009000     0.009000     0.000000     0.000000     4.018000  \n",
              "max       0.075000     0.060000     0.009000     0.032000     4.158000  \n",
              "\n",
              "[8 rows x 39 columns]"
            ],
            "text/html": [
              "\n",
              "  <div id=\"df-bfd69bdd-bfda-4c1a-bcb6-69c5385779cf\" class=\"colab-df-container\">\n",
              "    <div>\n",
              "<style scoped>\n",
              "    .dataframe tbody tr th:only-of-type {\n",
              "        vertical-align: middle;\n",
              "    }\n",
              "\n",
              "    .dataframe tbody tr th {\n",
              "        vertical-align: top;\n",
              "    }\n",
              "\n",
              "    .dataframe thead th {\n",
              "        text-align: right;\n",
              "    }\n",
              "</style>\n",
              "<table border=\"1\" class=\"dataframe\">\n",
              "  <thead>\n",
              "    <tr style=\"text-align: right;\">\n",
              "      <th></th>\n",
              "      <th>SiO2.cpx</th>\n",
              "      <th>Al2O3.cpx</th>\n",
              "      <th>TiO2.cpx</th>\n",
              "      <th>CaO.cpx</th>\n",
              "      <th>Na2O.cpx</th>\n",
              "      <th>K2O.cpx</th>\n",
              "      <th>FeO.cpx</th>\n",
              "      <th>MgO.cpx</th>\n",
              "      <th>MnO.cpx</th>\n",
              "      <th>Cr2O3.cpx</th>\n",
              "      <th>...</th>\n",
              "      <th>Ca.cpx</th>\n",
              "      <th>Na.cpx</th>\n",
              "      <th>K.cpx</th>\n",
              "      <th>Fe.cpx</th>\n",
              "      <th>Mg.cpx</th>\n",
              "      <th>Mn.cpx</th>\n",
              "      <th>Cr.cpx</th>\n",
              "      <th>Ni.cpx</th>\n",
              "      <th>P.cpx</th>\n",
              "      <th>cat.sum</th>\n",
              "    </tr>\n",
              "  </thead>\n",
              "  <tbody>\n",
              "    <tr>\n",
              "      <th>count</th>\n",
              "      <td>2079.000000</td>\n",
              "      <td>2079.000000</td>\n",
              "      <td>2079.000000</td>\n",
              "      <td>2079.000000</td>\n",
              "      <td>2079.000000</td>\n",
              "      <td>2079.000000</td>\n",
              "      <td>2079.000000</td>\n",
              "      <td>2079.000000</td>\n",
              "      <td>2079.000000</td>\n",
              "      <td>2079.000000</td>\n",
              "      <td>...</td>\n",
              "      <td>2079.000000</td>\n",
              "      <td>2079.000000</td>\n",
              "      <td>2079.000000</td>\n",
              "      <td>2079.000000</td>\n",
              "      <td>2079.000000</td>\n",
              "      <td>2079.000000</td>\n",
              "      <td>2079.000000</td>\n",
              "      <td>2079.000000</td>\n",
              "      <td>2079.000000</td>\n",
              "      <td>2079.000000</td>\n",
              "    </tr>\n",
              "    <tr>\n",
              "      <th>mean</th>\n",
              "      <td>50.857629</td>\n",
              "      <td>5.022458</td>\n",
              "      <td>0.729548</td>\n",
              "      <td>16.894334</td>\n",
              "      <td>0.536162</td>\n",
              "      <td>0.021347</td>\n",
              "      <td>9.162142</td>\n",
              "      <td>16.089630</td>\n",
              "      <td>0.228490</td>\n",
              "      <td>0.221178</td>\n",
              "      <td>...</td>\n",
              "      <td>0.669856</td>\n",
              "      <td>0.038277</td>\n",
              "      <td>0.000966</td>\n",
              "      <td>0.285787</td>\n",
              "      <td>0.882860</td>\n",
              "      <td>0.007239</td>\n",
              "      <td>0.006346</td>\n",
              "      <td>0.000057</td>\n",
              "      <td>0.000213</td>\n",
              "      <td>4.008262</td>\n",
              "    </tr>\n",
              "    <tr>\n",
              "      <th>std</th>\n",
              "      <td>2.232614</td>\n",
              "      <td>3.221238</td>\n",
              "      <td>0.662754</td>\n",
              "      <td>4.931990</td>\n",
              "      <td>0.672233</td>\n",
              "      <td>0.076960</td>\n",
              "      <td>4.788408</td>\n",
              "      <td>3.952534</td>\n",
              "      <td>0.205509</td>\n",
              "      <td>0.371303</td>\n",
              "      <td>...</td>\n",
              "      <td>0.198416</td>\n",
              "      <td>0.047853</td>\n",
              "      <td>0.003695</td>\n",
              "      <td>0.156628</td>\n",
              "      <td>0.203156</td>\n",
              "      <td>0.006749</td>\n",
              "      <td>0.010582</td>\n",
              "      <td>0.000385</td>\n",
              "      <td>0.001393</td>\n",
              "      <td>0.022057</td>\n",
              "    </tr>\n",
              "    <tr>\n",
              "      <th>min</th>\n",
              "      <td>37.830000</td>\n",
              "      <td>0.000000</td>\n",
              "      <td>0.000000</td>\n",
              "      <td>0.370000</td>\n",
              "      <td>0.000000</td>\n",
              "      <td>0.000000</td>\n",
              "      <td>1.700000</td>\n",
              "      <td>0.770000</td>\n",
              "      <td>0.000000</td>\n",
              "      <td>0.000000</td>\n",
              "      <td>...</td>\n",
              "      <td>0.015000</td>\n",
              "      <td>0.000000</td>\n",
              "      <td>0.000000</td>\n",
              "      <td>0.051000</td>\n",
              "      <td>0.047000</td>\n",
              "      <td>0.000000</td>\n",
              "      <td>0.000000</td>\n",
              "      <td>0.000000</td>\n",
              "      <td>0.000000</td>\n",
              "      <td>3.869000</td>\n",
              "    </tr>\n",
              "    <tr>\n",
              "      <th>25%</th>\n",
              "      <td>49.895000</td>\n",
              "      <td>2.450000</td>\n",
              "      <td>0.290000</td>\n",
              "      <td>15.100000</td>\n",
              "      <td>0.210000</td>\n",
              "      <td>0.000000</td>\n",
              "      <td>5.890000</td>\n",
              "      <td>14.200000</td>\n",
              "      <td>0.110000</td>\n",
              "      <td>0.000000</td>\n",
              "      <td>...</td>\n",
              "      <td>0.595000</td>\n",
              "      <td>0.015000</td>\n",
              "      <td>0.000000</td>\n",
              "      <td>0.179000</td>\n",
              "      <td>0.790000</td>\n",
              "      <td>0.003000</td>\n",
              "      <td>0.000000</td>\n",
              "      <td>0.000000</td>\n",
              "      <td>0.000000</td>\n",
              "      <td>3.997000</td>\n",
              "    </tr>\n",
              "    <tr>\n",
              "      <th>50%</th>\n",
              "      <td>51.200000</td>\n",
              "      <td>4.400000</td>\n",
              "      <td>0.570000</td>\n",
              "      <td>18.000000</td>\n",
              "      <td>0.350000</td>\n",
              "      <td>0.000000</td>\n",
              "      <td>7.951833</td>\n",
              "      <td>15.760000</td>\n",
              "      <td>0.180000</td>\n",
              "      <td>0.000000</td>\n",
              "      <td>...</td>\n",
              "      <td>0.713000</td>\n",
              "      <td>0.025000</td>\n",
              "      <td>0.000000</td>\n",
              "      <td>0.244000</td>\n",
              "      <td>0.873000</td>\n",
              "      <td>0.006000</td>\n",
              "      <td>0.000000</td>\n",
              "      <td>0.000000</td>\n",
              "      <td>0.000000</td>\n",
              "      <td>4.006000</td>\n",
              "    </tr>\n",
              "    <tr>\n",
              "      <th>75%</th>\n",
              "      <td>52.100000</td>\n",
              "      <td>7.055000</td>\n",
              "      <td>0.900000</td>\n",
              "      <td>20.240000</td>\n",
              "      <td>0.590000</td>\n",
              "      <td>0.010000</td>\n",
              "      <td>11.700000</td>\n",
              "      <td>17.890000</td>\n",
              "      <td>0.300000</td>\n",
              "      <td>0.320000</td>\n",
              "      <td>...</td>\n",
              "      <td>0.802000</td>\n",
              "      <td>0.042000</td>\n",
              "      <td>0.000000</td>\n",
              "      <td>0.367500</td>\n",
              "      <td>0.969000</td>\n",
              "      <td>0.009000</td>\n",
              "      <td>0.009000</td>\n",
              "      <td>0.000000</td>\n",
              "      <td>0.000000</td>\n",
              "      <td>4.018000</td>\n",
              "    </tr>\n",
              "    <tr>\n",
              "      <th>max</th>\n",
              "      <td>57.200000</td>\n",
              "      <td>25.760000</td>\n",
              "      <td>5.690000</td>\n",
              "      <td>24.820000</td>\n",
              "      <td>7.760000</td>\n",
              "      <td>1.050000</td>\n",
              "      <td>34.200000</td>\n",
              "      <td>32.100000</td>\n",
              "      <td>2.200000</td>\n",
              "      <td>2.110000</td>\n",
              "      <td>...</td>\n",
              "      <td>0.994000</td>\n",
              "      <td>0.529000</td>\n",
              "      <td>0.050000</td>\n",
              "      <td>1.157000</td>\n",
              "      <td>1.669000</td>\n",
              "      <td>0.075000</td>\n",
              "      <td>0.060000</td>\n",
              "      <td>0.009000</td>\n",
              "      <td>0.032000</td>\n",
              "      <td>4.158000</td>\n",
              "    </tr>\n",
              "  </tbody>\n",
              "</table>\n",
              "<p>8 rows × 39 columns</p>\n",
              "</div>\n",
              "    <div class=\"colab-df-buttons\">\n",
              "\n",
              "  <div class=\"colab-df-container\">\n",
              "    <button class=\"colab-df-convert\" onclick=\"convertToInteractive('df-bfd69bdd-bfda-4c1a-bcb6-69c5385779cf')\"\n",
              "            title=\"Convert this dataframe to an interactive table.\"\n",
              "            style=\"display:none;\">\n",
              "\n",
              "  <svg xmlns=\"http://www.w3.org/2000/svg\" height=\"24px\" viewBox=\"0 -960 960 960\">\n",
              "    <path d=\"M120-120v-720h720v720H120Zm60-500h600v-160H180v160Zm220 220h160v-160H400v160Zm0 220h160v-160H400v160ZM180-400h160v-160H180v160Zm440 0h160v-160H620v160ZM180-180h160v-160H180v160Zm440 0h160v-160H620v160Z\"/>\n",
              "  </svg>\n",
              "    </button>\n",
              "\n",
              "  <style>\n",
              "    .colab-df-container {\n",
              "      display:flex;\n",
              "      gap: 12px;\n",
              "    }\n",
              "\n",
              "    .colab-df-convert {\n",
              "      background-color: #E8F0FE;\n",
              "      border: none;\n",
              "      border-radius: 50%;\n",
              "      cursor: pointer;\n",
              "      display: none;\n",
              "      fill: #1967D2;\n",
              "      height: 32px;\n",
              "      padding: 0 0 0 0;\n",
              "      width: 32px;\n",
              "    }\n",
              "\n",
              "    .colab-df-convert:hover {\n",
              "      background-color: #E2EBFA;\n",
              "      box-shadow: 0px 1px 2px rgba(60, 64, 67, 0.3), 0px 1px 3px 1px rgba(60, 64, 67, 0.15);\n",
              "      fill: #174EA6;\n",
              "    }\n",
              "\n",
              "    .colab-df-buttons div {\n",
              "      margin-bottom: 4px;\n",
              "    }\n",
              "\n",
              "    [theme=dark] .colab-df-convert {\n",
              "      background-color: #3B4455;\n",
              "      fill: #D2E3FC;\n",
              "    }\n",
              "\n",
              "    [theme=dark] .colab-df-convert:hover {\n",
              "      background-color: #434B5C;\n",
              "      box-shadow: 0px 1px 3px 1px rgba(0, 0, 0, 0.15);\n",
              "      filter: drop-shadow(0px 1px 2px rgba(0, 0, 0, 0.3));\n",
              "      fill: #FFFFFF;\n",
              "    }\n",
              "  </style>\n",
              "\n",
              "    <script>\n",
              "      const buttonEl =\n",
              "        document.querySelector('#df-bfd69bdd-bfda-4c1a-bcb6-69c5385779cf button.colab-df-convert');\n",
              "      buttonEl.style.display =\n",
              "        google.colab.kernel.accessAllowed ? 'block' : 'none';\n",
              "\n",
              "      async function convertToInteractive(key) {\n",
              "        const element = document.querySelector('#df-bfd69bdd-bfda-4c1a-bcb6-69c5385779cf');\n",
              "        const dataTable =\n",
              "          await google.colab.kernel.invokeFunction('convertToInteractive',\n",
              "                                                    [key], {});\n",
              "        if (!dataTable) return;\n",
              "\n",
              "        const docLinkHtml = 'Like what you see? Visit the ' +\n",
              "          '<a target=\"_blank\" href=https://colab.research.google.com/notebooks/data_table.ipynb>data table notebook</a>'\n",
              "          + ' to learn more about interactive tables.';\n",
              "        element.innerHTML = '';\n",
              "        dataTable['output_type'] = 'display_data';\n",
              "        await google.colab.output.renderOutput(dataTable, element);\n",
              "        const docLink = document.createElement('div');\n",
              "        docLink.innerHTML = docLinkHtml;\n",
              "        element.appendChild(docLink);\n",
              "      }\n",
              "    </script>\n",
              "  </div>\n",
              "\n",
              "\n",
              "<div id=\"df-dfa349ef-7bea-47c9-aaaf-05ac5dc164f9\">\n",
              "  <button class=\"colab-df-quickchart\" onclick=\"quickchart('df-dfa349ef-7bea-47c9-aaaf-05ac5dc164f9')\"\n",
              "            title=\"Suggest charts.\"\n",
              "            style=\"display:none;\">\n",
              "\n",
              "<svg xmlns=\"http://www.w3.org/2000/svg\" height=\"24px\"viewBox=\"0 0 24 24\"\n",
              "     width=\"24px\">\n",
              "    <g>\n",
              "        <path d=\"M19 3H5c-1.1 0-2 .9-2 2v14c0 1.1.9 2 2 2h14c1.1 0 2-.9 2-2V5c0-1.1-.9-2-2-2zM9 17H7v-7h2v7zm4 0h-2V7h2v10zm4 0h-2v-4h2v4z\"/>\n",
              "    </g>\n",
              "</svg>\n",
              "  </button>\n",
              "\n",
              "<style>\n",
              "  .colab-df-quickchart {\n",
              "    background-color: #E8F0FE;\n",
              "    border: none;\n",
              "    border-radius: 50%;\n",
              "    cursor: pointer;\n",
              "    display: none;\n",
              "    fill: #1967D2;\n",
              "    height: 32px;\n",
              "    padding: 0 0 0 0;\n",
              "    width: 32px;\n",
              "  }\n",
              "\n",
              "  .colab-df-quickchart:hover {\n",
              "    background-color: #E2EBFA;\n",
              "    box-shadow: 0px 1px 2px rgba(60, 64, 67, 0.3), 0px 1px 3px 1px rgba(60, 64, 67, 0.15);\n",
              "    fill: #174EA6;\n",
              "  }\n",
              "\n",
              "  [theme=dark] .colab-df-quickchart {\n",
              "    background-color: #3B4455;\n",
              "    fill: #D2E3FC;\n",
              "  }\n",
              "\n",
              "  [theme=dark] .colab-df-quickchart:hover {\n",
              "    background-color: #434B5C;\n",
              "    box-shadow: 0px 1px 3px 1px rgba(0, 0, 0, 0.15);\n",
              "    filter: drop-shadow(0px 1px 2px rgba(0, 0, 0, 0.3));\n",
              "    fill: #FFFFFF;\n",
              "  }\n",
              "</style>\n",
              "\n",
              "  <script>\n",
              "    async function quickchart(key) {\n",
              "      const charts = await google.colab.kernel.invokeFunction(\n",
              "          'suggestCharts', [key], {});\n",
              "    }\n",
              "    (() => {\n",
              "      let quickchartButtonEl =\n",
              "        document.querySelector('#df-dfa349ef-7bea-47c9-aaaf-05ac5dc164f9 button');\n",
              "      quickchartButtonEl.style.display =\n",
              "        google.colab.kernel.accessAllowed ? 'block' : 'none';\n",
              "    })();\n",
              "  </script>\n",
              "</div>\n",
              "    </div>\n",
              "  </div>\n"
            ]
          },
          "metadata": {},
          "execution_count": 10
        }
      ]
    },
    {
      "cell_type": "markdown",
      "source": [
        "A partir dos dados apresentados, podemos obter algumas informações importantes e insights.\n",
        "\n",
        "A seguir estão alguns insights que podem ser extraídos:\n",
        "\n",
        "-  maior concentração média em clinopiroxênios é de SiO2.cpx (50,86%) e a menor é de NiO.cpx (0,002%). Em líquidos, a maior concentração média é de SiO2.liq (53,28%) e a menor é de NiO.liq (0,001%).\n",
        "\n",
        "- O desvio padrão indica a variabilidade dos dados. Os elementos com maior variabilidade em clinopiroxênios são Al2O3.cpx (3,22) e MgO.cpx (3,95), enquanto em líquidos são Al2O3.liq (3,32) e MgO.liq (3,46).\n",
        "\n",
        "- A faixa de temperatura (T) varia de 650 a 1700 (média de 1149,71 e desvio padrão de 134,93), enquanto a faixa de pressão (P) varia de 0 a 30 (média de 6,74 e desvio padrão de 7,53).\n",
        "\n",
        "- A soma dos cátions (cat.sum) tem uma média de 4,01, com um desvio padrão de 0,02, indicando que a maioria das amostras está próxima da média."
      ],
      "metadata": {
        "id": "nOdBy3bCPVhE"
      }
    },
    {
      "cell_type": "markdown",
      "source": [
        "**3 - ANÁLISE DE CORRELAÇÃO**\n",
        "\n",
        "Na análise de correlação, uma abordagem comum é iniciar com a criação de um gráfico de dispersão (scatterplot) e, em seguida, realizar uma análise estatística da correlação. Ao analisar o scatterplot abaixo, podemos observar uma correlação moderadamente positiva entre as duas variáveis."
      ],
      "metadata": {
        "id": "O4MuAJfJTLWd"
      }
    },
    {
      "cell_type": "code",
      "source": [
        "# Cria um gráfico de dispersão (scatterplot) utilizando os valores das colunas\n",
        "#'P' (Pressão) e 'T' (Temperatura) do DataFrame 'dados'\n",
        "plt.scatter(dados['P'], dados['T'])\n",
        "\n",
        "# Define o rótulo do eixo x como 'Pressão (P)'\n",
        "plt.xlabel('Pressão (P)')\n",
        "\n",
        "# Define o rótulo do eixo y como 'Temperatura (T)'\n",
        "plt.ylabel('Temperatura (T)')\n",
        "\n",
        "# Adiciona um título ao gráfico: 'Scatterplot entre Pressão e Temperatura'\n",
        "plt.title('Scatterplot entre Pressão e Temperatura')\n",
        "\n",
        "# Exibe o gráfico na tela\n",
        "plt.show()\n"
      ],
      "metadata": {
        "colab": {
          "base_uri": "https://localhost:8080/",
          "height": 472
        },
        "id": "EwtPkUWfTL6O",
        "outputId": "e0c1ec1f-0272-47ad-95ad-df384150be42"
      },
      "execution_count": 11,
      "outputs": [
        {
          "output_type": "display_data",
          "data": {
            "text/plain": [
              "<Figure size 640x480 with 1 Axes>"
            ],
            "image/png": "[encoded data removed]"
          },
          "metadata": {}
        }
      ]
    },
    {
      "cell_type": "code",
      "source": [
        "correlacao = dados['P'].corr(dados['T'])\n",
        "print(\"Correlação entre Pressão (P) e Temperatura (T):\", correlacao)"
      ],
      "metadata": {
        "colab": {
          "base_uri": "https://localhost:8080/"
        },
        "id": "5x-WNurzTvYT",
        "outputId": "862b1bd5-7c21-442b-ffe4-23936baccf7a"
      },
      "execution_count": 12,
      "outputs": [
        {
          "output_type": "stream",
          "name": "stdout",
          "text": [
            "Correlação entre Pressão (P) e Temperatura (T): 0.5636827382231157\n"
          ]
        }
      ]
    },
    {
      "cell_type": "markdown",
      "source": [
        "A correlação entre Pressão (P) e Temperatura (T) de 0.5637 indica uma correlação positiva realmente moderada entre essas duas variáveis. Isso significa que, em geral, conforme a pressão aumenta, a temperatura também tende a aumentar, e vice-versa.\n",
        "\n",
        "No entanto, é importante notar que a correlação entre pressão e temperatura não é perfeita. Isso ocorre porque existem variações geológicas e tudo depende do contexto!"
      ],
      "metadata": {
        "id": "isVSZQTyUC37"
      }
    },
    {
      "cell_type": "markdown",
      "source": [
        "**4 - ANÁLISE DE OUTLIERS**"
      ],
      "metadata": {
        "id": "2NQlchNrVmNG"
      }
    },
    {
      "cell_type": "code",
      "source": [
        "# Cria uma figura e dois eixos (um para cada boxplot)\n",
        "fig, axes = plt.subplots(1, 2, figsize=(10, 5))\n",
        "\n",
        "# Cria o boxplot para a coluna 'P' (Pressão) e define o rótulo do eixo x\n",
        "axes[0].boxplot(dados['P'])\n",
        "axes[0].set_xlabel('Pressão (P)')\n",
        "\n",
        "# Cria o boxplot para a coluna 'T' (Temperatura) e define o rótulo do eixo x\n",
        "axes[1].boxplot(dados['T'])\n",
        "axes[1].set_xlabel('Temperatura (T)')\n",
        "\n",
        "# Define um título geral para a figura\n",
        "fig.suptitle('Boxplots para Pressão e Temperatura')\n",
        "\n",
        "# Exibe os boxplots na tela\n",
        "plt.show()"
      ],
      "metadata": {
        "colab": {
          "base_uri": "https://localhost:8080/",
          "height": 515
        },
        "id": "ufFgpEFSVyZx",
        "outputId": "185ad151-ba70-485c-cb2c-9709240e8089"
      },
      "execution_count": 13,
      "outputs": [
        {
          "output_type": "display_data",
          "data": {
            "text/plain": [
              "<Figure size 1000x500 with 2 Axes>"
            ],
            "image/png": "[encoded data removed]"
          },
          "metadata": {}
        }
      ]
    },
    {
      "cell_type": "markdown",
      "source": [
        "Ao observar os boxplots, podemos identificar a presença de alguns outliers. No entanto, não vou removê-los da análise, pois esses pontos são importantes a depender do contexto geológico."
      ],
      "metadata": {
        "id": "PsVu9mSmXD2b"
      }
    },
    {
      "cell_type": "markdown",
      "source": [
        "**5 - ANÁLISE DE DISTRIBUIÇÃO**"
      ],
      "metadata": {
        "id": "QcObZUBaXM6I"
      }
    },
    {
      "cell_type": "code",
      "source": [
        "plt.hist(dados['P'], bins=10, edgecolor='black')\n",
        "plt.xlabel('Pressão')\n",
        "plt.ylabel('Frequência')\n",
        "plt.title('Histograma da Coluna Pressão')\n",
        "plt.show()"
      ],
      "metadata": {
        "colab": {
          "base_uri": "https://localhost:8080/",
          "height": 472
        },
        "id": "ErZbdt7h2Ame",
        "outputId": "06b72c1b-410d-4b85-a3f7-8f1295769e4d"
      },
      "execution_count": 14,
      "outputs": [
        {
          "output_type": "display_data",
          "data": {
            "text/plain": [
              "<Figure size 640x480 with 1 Axes>"
            ],
            "image/png": "[encoded data removed]"
          },
          "metadata": {}
        }
      ]
    },
    {
      "cell_type": "code",
      "source": [
        "plt.hist(dados['T'], bins=10, edgecolor='black')\n",
        "plt.xlabel('Temperatura')\n",
        "plt.ylabel('Frequência')\n",
        "plt.title('Histograma da Coluna Temperatura')\n",
        "plt.show()"
      ],
      "metadata": {
        "colab": {
          "base_uri": "https://localhost:8080/",
          "height": 472
        },
        "id": "OSiHVfo-3lds",
        "outputId": "01fb502e-f5f8-41f9-d56c-b5ed98a13717"
      },
      "execution_count": 15,
      "outputs": [
        {
          "output_type": "display_data",
          "data": {
            "text/plain": [
              "<Figure size 640x480 with 1 Axes>"
            ],
            "image/png": "[encoded data removed]"
          },
          "metadata": {}
        }
      ]
    },
    {
      "cell_type": "markdown",
      "source": [
        "Os dados parecem ter uma distribuição normal. Para confirmar, realizarei o tesde de Shapiro-Wilk."
      ],
      "metadata": {
        "id": "PGG9GazTLhjz"
      }
    },
    {
      "cell_type": "code",
      "source": [
        "temperatura = dados['T']\n",
        "\n",
        "# Realizando o teste de Shapiro-Wilk\n",
        "stat, p_valor = shapiro(temperatura)\n",
        "\n",
        "print(\"Estatística:\", stat)\n",
        "print(\"P-valor:\", p_valor)\n",
        "\n",
        "# Interpretação do P-valor\n",
        "alfa = 0.05\n",
        "if p_valor > alfa:\n",
        "    print(\"A distribuição parece normal (não rejeita H0)\")\n",
        "else:\n",
        "    print(\"A distribuição não parece normal (rejeita H0)\")"
      ],
      "metadata": {
        "colab": {
          "base_uri": "https://localhost:8080/"
        },
        "id": "tmTI1jO4YGFh",
        "outputId": "22b39d6b-33a3-4bff-cab6-b3f18b3b8ea6"
      },
      "execution_count": 17,
      "outputs": [
        {
          "output_type": "stream",
          "name": "stdout",
          "text": [
            "Estatística: 0.9861677885055542\n",
            "P-valor: 2.6731169903461416e-13\n",
            "A distribuição não parece normal (rejeita H0)\n"
          ]
        }
      ]
    },
    {
      "cell_type": "markdown",
      "source": [
        "#**PASSO 6 - MACHINE LEARNING**"
      ],
      "metadata": {
        "id": "hh3A_N9Y33uA"
      }
    },
    {
      "cell_type": "markdown",
      "source": [
        "##**MODELO ESCOLHIDO: RANDOM FOREST**\n",
        "\n",
        "O QUE É RANDOM FOREST?\n",
        "\n",
        "Random Forest é um algoritmo de aprendizado de máquina utilizado para problemas de classificação, regressão e outras tarefas de modelagem preditiva. O algoritmo funciona criando uma floresta de árvores de decisão aleatórias, onde cada árvore é construída de forma independente usando uma amostra aleatória do conjunto de dados de treinamento e com variáveis de entrada escolhidas aleatoriamente.\n",
        "\n",
        "Cada árvore na floresta faz uma previsão individual e, em seguida, a previsão final é determinada pela média das previsões de todas as árvores na floresta. O algoritmo Random Forest é usado principalmente porque é robusto, preciso e pode lidar com conjuntos de dados grandes e complexos.\n",
        "\n",
        "Além disso, o Random Forest também é capaz de lidar com problemas de sobreajuste (overfitting) e pode ser usado para selecionar recursos importantes para o modelo, o que o torna uma opção popular em muitos casos.\n",
        "\n",
        "\n"
      ],
      "metadata": {
        "id": "X_5tn0njAKRX"
      }
    },
    {
      "cell_type": "code",
      "source": [
        "X_random = dados.drop(['P', 'T'], axis=1) # remove as colunas de P e T do conjunto de dados\n",
        "y_random = dados[['P', 'T']]\n",
        "\n",
        "X_train_random, X_test_random, y_train_random, y_test_random = train_test_split(X_random, y_random, test_size=0.2, random_state=42)"
      ],
      "metadata": {
        "id": "P2C4h6bN33R8"
      },
      "execution_count": 23,
      "outputs": []
    },
    {
      "cell_type": "code",
      "source": [
        "# criar um objeto de regressor de Random Forest com 100 árvores\n",
        "rf_model = RandomForestRegressor(n_estimators=100, random_state=42)\n",
        "\n",
        "# ajustar o modelo com o conjunto de treinamento\n",
        "rf_model.fit(X_train_random, y_train_random['T'])\n",
        "\n",
        "# fazer previsões no conjunto de teste\n",
        "y_pred_temperatura_random = rf_model.predict(X_test_random)"
      ],
      "metadata": {
        "id": "TgKpun-A4IoW"
      },
      "execution_count": 24,
      "outputs": []
    },
    {
      "cell_type": "code",
      "source": [
        "# calcular MAE  e R²\n",
        "mae_temperatura_random = mean_absolute_error(y_test_random['T'], y_pred_temperatura_random)\n",
        "r2_temperatura_random = r2_score(y_test_random['T'], y_pred_temperatura_random)\n",
        "\n",
        "# imprimir as métricas\n",
        "print(\"MAE:\", mae_temperatura_random)\n",
        "print(\"R²:\", r2_temperatura_random)"
      ],
      "metadata": {
        "colab": {
          "base_uri": "https://localhost:8080/"
        },
        "id": "pXsG40qS4OxB",
        "outputId": "8287daab-40d0-472e-c6b1-a4f583b38d4e"
      },
      "execution_count": 25,
      "outputs": [
        {
          "output_type": "stream",
          "name": "stdout",
          "text": [
            "MAE: 23.127175480769225\n",
            "R²: 0.9353990827224284\n"
          ]
        }
      ]
    },
    {
      "cell_type": "code",
      "source": [
        "# ajustar o modelo com o conjunto de treinamento\n",
        "rf_model.fit(X_train_random, y_train_random['P'])\n",
        "\n",
        "# fazer previsões no conjunto de teste\n",
        "y_pred_pressao_random = rf_model.predict(X_test_random)"
      ],
      "metadata": {
        "id": "kuCGX_OFIqj9"
      },
      "execution_count": 26,
      "outputs": []
    },
    {
      "cell_type": "code",
      "source": [
        "# calcular MAE e R²\n",
        "mae_pressao_random = mean_absolute_error(y_test_random['P'], y_pred_pressao_random)\n",
        "r2_pressao_random = r2_score(y_test_random['P'], y_pred_pressao_random)\n",
        "\n",
        "# imprimir as métricas\n",
        "print(\"MAE:\", mae_pressao_random)\n",
        "print(\"R²:\", r2_pressao_random)"
      ],
      "metadata": {
        "colab": {
          "base_uri": "https://localhost:8080/"
        },
        "id": "VfBHvL8BJiaC",
        "outputId": "a62c12a9-378f-403e-8527-a2b803338ef6"
      },
      "execution_count": 27,
      "outputs": [
        {
          "output_type": "stream",
          "name": "stdout",
          "text": [
            "MAE: 1.462118790665064\n",
            "R²: 0.8991971333357367\n"
          ]
        }
      ]
    },
    {
      "cell_type": "markdown",
      "source": [
        "A utilização de Machine Learning na termobarometria com clinopiroxênio\n",
        "obteve resultados significativos para a determinação das condições de temperatura\n",
        "(T) e pressão (P) nas quais as rochas se formaram. A aplicação do algoritmo Random\n",
        "Forest demonstrou alta precisão e eficiência nos resultados obtidos, ressaltando a\n",
        "utilidade e relevância de métodos computacionais na área das geociências.\n",
        "Os resultados obtidos fornecem uma clara evidência de que essa abordagem\n",
        "pode contribuir de forma significativa para uma melhor compreensão dos processos\n",
        "geológicos envolvidos na formação de rochas, bem como aprimorar a confiabilidade\n",
        "das estimativas termobarométricas."
      ],
      "metadata": {
        "id": "KJT32TpqNffm"
      }
    }
  ]
}